{
 "cells": [
  {
   "cell_type": "code",
   "execution_count": 1,
   "id": "bf80f7d9-b8a0-4cca-8c3e-bd161af2953f",
   "metadata": {},
   "outputs": [],
   "source": [
    "import numpy as np\n",
    "import matplotlib.pyplot as plt\n",
    "import seaborn as sns\n",
    "\n",
    "from collections import defaultdict\n",
    "\n",
    "from joblib import Parallel,delayed\n",
    "\n",
    "import pandas as pd\n",
    "\n",
    "from pathlib import Path"
   ]
  },
  {
   "cell_type": "code",
   "execution_count": 2,
   "id": "2222bdce-235a-4de1-8916-d93d8e3ca253",
   "metadata": {},
   "outputs": [],
   "source": [
    "columns = [\"key\",\"HL\",\"Release\",\"Press\"]\n",
    "feature_columns = [\"key\",\"HL\",\"IL\",\"PL\",\"RL\",\"CL\"]\n",
    "columns_idx = {col:i for i,col in enumerate(columns)}\n",
    "columns_idx.update({col:i for i,col in enumerate(feature_columns)})"
   ]
  },
  {
   "cell_type": "code",
   "execution_count": 3,
   "id": "6ab86b6d-a77f-4ee5-a35d-118f5f388c84",
   "metadata": {},
   "outputs": [],
   "source": [
    "def extract_features(sample):\n",
    "    og_sample = sample\n",
    "    sample = sample.values\n",
    "    features = np.empty((len(sample),len(feature_columns)),dtype=object)\n",
    "    \n",
    "    features[:,columns_idx[\"HL\"]] = sample[:,columns_idx[\"HL\"]]\n",
    "    features[:,columns_idx[\"key\"]] = sample[:,columns_idx[\"key\"]]\n",
    "\n",
    "    features[1:,columns_idx[\"IL\"]] = sample[1:,columns_idx[\"Press\"]] - sample[:-1,columns_idx[\"Release\"]]\n",
    "    features[1:,columns_idx[\"PL\"]] = sample[1:,columns_idx[\"Press\"]] - sample[:-1,columns_idx[\"Press\"]]\n",
    "    features[1:,columns_idx[\"RL\"]] = sample[1:,columns_idx[\"Release\"]] - sample[:-1,columns_idx[\"Release\"]]\n",
    "    features[1:,columns_idx[\"CL\"]] = sample[1:,columns_idx[\"Release\"]] - sample[:-1,columns_idx[\"Press\"]]\n",
    "\n",
    "    features = pd.DataFrame(data=features,columns=feature_columns)\n",
    "    features = pd.concat([features,og_sample.drop([\"HL\",\"key\"],axis=1)],axis=1)\n",
    "    \n",
    "    return features"
   ]
  },
  {
   "cell_type": "code",
   "execution_count": 4,
   "id": "c0855abf-ed2b-4739-8a7e-3b920702a3f9",
   "metadata": {},
   "outputs": [],
   "source": [
    "def pipeline(sample_path,save_dir):\n",
    "    sample = pd.read_csv(sample_path,names=columns,header=None)\n",
    "    features = extract_features(sample)\n",
    "    features.to_csv(save_dir/sample_path.name,index=False)"
   ]
  },
  {
   "cell_type": "code",
   "execution_count": 5,
   "id": "e1286bb7-a3c0-4ca5-8be8-9a9254823d2c",
   "metadata": {},
   "outputs": [],
   "source": [
    "save_dir = Path(\"features\")\n",
    "save_dir.mkdir(exist_ok=True)\n",
    "\n",
    "data_path1 = Path(\"neuroQWERTY/MIT-CS1PD/data_MIT-CS1PD\")\n",
    "save_dir1 = save_dir/\"MIT-CS1PD\"\n",
    "save_dir1.mkdir(exist_ok=True)\n",
    "\n",
    "data_path2 = Path(\"neuroQWERTY/MIT-CS2PD/data_MIT-CS2PD\")\n",
    "save_dir2 = save_dir/\"MIT-CS2PD\"\n",
    "save_dir2.mkdir(exist_ok=True)"
   ]
  },
  {
   "cell_type": "code",
   "execution_count": 6,
   "id": "1d495002-40c7-4661-b59f-7de8844f53a0",
   "metadata": {},
   "outputs": [],
   "source": [
    "Parallel(n_jobs=-2)(\n",
    "    delayed(pipeline)(sample_path,save_dir1) for sample_path in data_path1.glob(\"*.csv\")\n",
    ");"
   ]
  },
  {
   "cell_type": "code",
   "execution_count": 7,
   "id": "170df20c-23d9-40c1-ab26-a329fdf88f12",
   "metadata": {},
   "outputs": [],
   "source": [
    "Parallel(n_jobs=-2)(\n",
    "    delayed(pipeline)(sample_path,save_dir2) for sample_path in data_path2.glob(\"*.csv\")\n",
    ");"
   ]
  }
 ],
 "metadata": {
  "kernelspec": {
   "display_name": "Python 3 (ipykernel)",
   "language": "python",
   "name": "python3"
  },
  "language_info": {
   "codemirror_mode": {
    "name": "ipython",
    "version": 3
   },
   "file_extension": ".py",
   "mimetype": "text/x-python",
   "name": "python",
   "nbconvert_exporter": "python",
   "pygments_lexer": "ipython3",
   "version": "3.10.13"
  }
 },
 "nbformat": 4,
 "nbformat_minor": 5
}
