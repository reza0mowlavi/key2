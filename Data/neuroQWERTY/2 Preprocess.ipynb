{
 "cells": [
  {
   "cell_type": "code",
   "execution_count": 1,
   "id": "87061dd3-e422-418a-ba40-1b032af538e4",
   "metadata": {},
   "outputs": [],
   "source": [
    "import numpy as np\n",
    "import matplotlib.pyplot as plt\n",
    "import seaborn as sns\n",
    "\n",
    "from collections import defaultdict\n",
    "\n",
    "from joblib import Parallel,delayed\n",
    "\n",
    "import pandas as pd\n",
    "\n",
    "from joblib import Parallel,delayed\n",
    "\n",
    "from pathlib import Path\n",
    "\n",
    "from collections import defaultdict"
   ]
  },
  {
   "cell_type": "code",
   "execution_count": 2,
   "id": "0a626626-1318-4a4a-ae41-9cd73cc07379",
   "metadata": {},
   "outputs": [],
   "source": [
    "HL_LOWER = 0\n",
    "HL_UPPER = 0.5474\n",
    "\n",
    "PL_LOWER = -1.8929\n",
    "PL_UPPER = 4.6982"
   ]
  },
  {
   "cell_type": "code",
   "execution_count": 3,
   "id": "fc5d5e3c-897d-457e-8b63-c13a4e2ae63a",
   "metadata": {},
   "outputs": [],
   "source": [
    "data_dir = Path(\"features\")\n",
    "data_dir1 = data_dir/\"MIT-CS1PD\"\n",
    "data_dir2 = data_dir/\"MIT-CS2PD\"\n",
    "\n",
    "save_dir = Path(\"processed_features\")\n",
    "save_dir.mkdir(exist_ok=True)\n",
    "\n",
    "save_dir1 = save_dir/\"MIT-CS1PD\"\n",
    "save_dir1.mkdir(exist_ok=True)\n",
    "\n",
    "save_dir2 = save_dir/\"MIT-CS2PD\"\n",
    "save_dir2.mkdir(exist_ok=True)"
   ]
  },
  {
   "cell_type": "code",
   "execution_count": 4,
   "id": "9684e1d2-6e9e-4e50-901b-6644b216b52a",
   "metadata": {},
   "outputs": [],
   "source": [
    "def preprocess(sample):\n",
    "    sample = sample.drop([\"Press\",\"Release\"],axis=1)\n",
    "    sample = sample[\n",
    "        np.logical_and(HL_LOWER<sample[\"HL\"], sample[\"HL\"]<HL_UPPER)\n",
    "    ].reset_index(drop=True)\n",
    "    \n",
    "    sample.loc[\n",
    "        ~np.logical_and(\n",
    "            PL_LOWER<sample[\"PL\"],\n",
    "            sample[\"PL\"]<PL_UPPER\n",
    "        ),\n",
    "        [\"IL\",\"PL\",\"RL\",\"CL\"]\n",
    "    ] = np.nan\n",
    "\n",
    "    sample = sample.astype(\n",
    "        {\"HL\":\"float32\",\"IL\":\"float32\",\"PL\":\"float32\",\"RL\":\"float32\",\"CL\":\"float32\",}\n",
    "        )\n",
    "    \n",
    "    return sample"
   ]
  },
  {
   "cell_type": "code",
   "execution_count": 5,
   "id": "9552f271-c839-41f9-8f69-c056b8a668eb",
   "metadata": {},
   "outputs": [],
   "source": [
    "def compute_diff(sample):\n",
    "    for key in [\"HL\",\"IL\",\"PL\",\"RL\",\"CL\"]:\n",
    "        diff = sample[key][1:].values-sample[key][:-1].values\n",
    "        sample[f\"diff_{key}\"] = np.concatenate(\n",
    "            [\n",
    "                [np.nan],diff\n",
    "            ]\n",
    "        )\n",
    "    return sample"
   ]
  },
  {
   "cell_type": "code",
   "execution_count": 6,
   "id": "cd677c44-35b5-41e1-94ca-79132c23ba32",
   "metadata": {},
   "outputs": [],
   "source": [
    "def pipeline(sample_path,save_dir):\n",
    "    sample = pd.read_csv(sample_path)\n",
    "    sample = preprocess(sample)\n",
    "    sample = compute_diff(sample)\n",
    "    sample.to_csv(save_dir/sample_path.name,index=False)"
   ]
  },
  {
   "cell_type": "code",
   "execution_count": 7,
   "id": "b480c496-b35f-4aa6-916b-8fda598f6ba9",
   "metadata": {},
   "outputs": [],
   "source": [
    "Parallel(n_jobs=-2)(\n",
    "    delayed(pipeline)(sample_path,save_dir1) for sample_path in data_dir1.glob(\"*.csv\")\n",
    ");"
   ]
  },
  {
   "cell_type": "code",
   "execution_count": 8,
   "id": "258f47a1-b38e-4c28-93c4-678cfed3ef88",
   "metadata": {},
   "outputs": [],
   "source": [
    "Parallel(n_jobs=-2)(\n",
    "    delayed(pipeline)(sample_path,save_dir2) for sample_path in data_dir2.glob(\"*.csv\")\n",
    ");"
   ]
  }
 ],
 "metadata": {
  "kernelspec": {
   "display_name": "Python 3 (ipykernel)",
   "language": "python",
   "name": "python3"
  },
  "language_info": {
   "codemirror_mode": {
    "name": "ipython",
    "version": 3
   },
   "file_extension": ".py",
   "mimetype": "text/x-python",
   "name": "python",
   "nbconvert_exporter": "python",
   "pygments_lexer": "ipython3",
   "version": "3.10.13"
  }
 },
 "nbformat": 4,
 "nbformat_minor": 5
}
