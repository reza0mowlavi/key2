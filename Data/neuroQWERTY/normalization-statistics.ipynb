{
 "cells": [
  {
   "cell_type": "code",
   "execution_count": 1,
   "id": "e14f1ac5-a220-4a69-9766-5205947b8a21",
   "metadata": {},
   "outputs": [],
   "source": [
    "import numpy as np\n",
    "import matplotlib.pyplot as plt\n",
    "import seaborn as sns\n",
    "\n",
    "from collections import defaultdict\n",
    "\n",
    "from joblib import Parallel,delayed\n",
    "\n",
    "import pandas as pd\n",
    "\n",
    "from joblib import Parallel,delayed\n",
    "\n",
    "from pathlib import Path\n",
    "\n",
    "from itertools import chain\n",
    "\n",
    "import pickle"
   ]
  },
  {
   "cell_type": "code",
   "execution_count": 2,
   "id": "f85a45ac-df8b-4f67-a176-bd7397794e8b",
   "metadata": {},
   "outputs": [],
   "source": [
    "keys = [\n",
    "    \"HL\",\"IL\",\"PL\",\"RL\",\"CL\",\n",
    "    \"diff_HL\",\"diff_IL\",\"diff_PL\",\"diff_RL\",\"diff_CL\",\n",
    "]"
   ]
  },
  {
   "cell_type": "code",
   "execution_count": 3,
   "id": "73c89d96-1704-402f-bb98-42a11a81dce4",
   "metadata": {},
   "outputs": [],
   "source": [
    "def extract_a_dataset(data_path):\n",
    "    df = Parallel(n_jobs=-2)(\n",
    "        delayed(\n",
    "            lambda path:(path.name,pd.read_csv(path))\n",
    "        )(x) for x in chain(\n",
    "            (data_path/\"MIT-CS1PD\").rglob(\"*.csv\"),\n",
    "            (data_path/\"MIT-CS2PD\").rglob(\"*.csv\"),\n",
    "        )\n",
    "    )\n",
    "    df = dict(df)\n",
    "\n",
    "    dataset = defaultdict(list)\n",
    "\n",
    "    for val in df.values():\n",
    "        for key in keys:\n",
    "            dataset[key].append(val[key].values.astype(\"float32\"))\n",
    "        \n",
    "\n",
    "    for key in keys:\n",
    "        dataset[key] = np.concatenate(dataset[key])\n",
    "        \n",
    "    return dataset"
   ]
  },
  {
   "cell_type": "code",
   "execution_count": 4,
   "id": "ef1a9408-c0ff-4290-a223-240836790fc6",
   "metadata": {},
   "outputs": [],
   "source": [
    "dataset = extract_a_dataset(Path(\"processed_features\"))"
   ]
  },
  {
   "cell_type": "code",
   "execution_count": 5,
   "id": "d0782597-31df-478f-95fe-bbc669082380",
   "metadata": {},
   "outputs": [],
   "source": [
    "def statistics(dataset):\n",
    "    results = {}\n",
    "    for key in keys:\n",
    "        values = dataset[key][~np.isnan(dataset[key])]\n",
    "        q1,q2 = np.percentile(values,[25,75])\n",
    "        IQR = q2-q1\n",
    "        results[key] = {\n",
    "            \"mean\":np.mean(values),\n",
    "            \"std\":np.std(values),\n",
    "            \"median\":np.median(values),\n",
    "            \"q1\":q1,\n",
    "            \"q2\":q2,\n",
    "            \"IQR\":IQR\n",
    "        }\n",
    "    return results"
   ]
  },
  {
   "cell_type": "code",
   "execution_count": 6,
   "id": "65aa0aa3-ed0c-4fe6-80d6-b19fd2fdf674",
   "metadata": {},
   "outputs": [],
   "source": [
    "results = statistics(dataset)"
   ]
  },
  {
   "cell_type": "code",
   "execution_count": 7,
   "id": "8e62a94a-8e6e-4102-accd-984620fcfab5",
   "metadata": {},
   "outputs": [],
   "source": [
    "with open(\"statistics.pickle\",\"wb\") as f:\n",
    "    pickle.dump(results,f)"
   ]
  },
  {
   "cell_type": "code",
   "execution_count": 8,
   "id": "e830cc98-fbb1-4dca-a0e9-013b394511ea",
   "metadata": {},
   "outputs": [
    {
     "data": {
      "text/plain": [
       "{'HL': {'mean': 0.117848106,\n",
       "  'std': 0.056892063,\n",
       "  'median': 0.1039,\n",
       "  'q1': 0.07819999754428864,\n",
       "  'q2': 0.1437000036239624,\n",
       "  'IQR': 0.06550000607967377},\n",
       " 'IL': {'mean': 0.3548907,\n",
       "  'std': 0.5548439,\n",
       "  'median': 0.1771,\n",
       "  'q1': 0.08299999684095383,\n",
       "  'q2': 0.3898000121116638,\n",
       "  'IQR': 0.30680001527071},\n",
       " 'PL': {'mean': 0.47720197,\n",
       "  'std': 0.5722912,\n",
       "  'median': 0.2847,\n",
       "  'q1': 0.18960000574588776,\n",
       "  'q2': 0.5163999795913696,\n",
       "  'IQR': 0.3267999738454819},\n",
       " 'RL': {'mean': 0.4722305,\n",
       "  'std': 0.56139344,\n",
       "  'median': 0.2864,\n",
       "  'q1': 0.1890999972820282,\n",
       "  'q2': 0.5149000287055969,\n",
       "  'IQR': 0.3258000314235687},\n",
       " 'CL': {'mean': 0.5945419,\n",
       "  'std': 0.5807334,\n",
       "  'median': 0.3993,\n",
       "  'q1': 0.29249998927116394,\n",
       "  'q2': 0.6453999876976013,\n",
       "  'IQR': 0.3528999984264374},\n",
       " 'diff_HL': {'mean': -7.904568e-06,\n",
       "  'std': 0.06403487,\n",
       "  'median': 0.00019999966,\n",
       "  'q1': -0.025699995458126068,\n",
       "  'q2': 0.025600001215934753,\n",
       "  'IQR': 0.05129999667406082},\n",
       " 'diff_IL': {'mean': 0.0019486244,\n",
       "  'std': 0.6787034,\n",
       "  'median': -0.0020999983,\n",
       "  'q1': -0.14570000767707825,\n",
       "  'q2': 0.15160000324249268,\n",
       "  'IQR': 0.2973000109195709},\n",
       " 'diff_PL': {'mean': 0.0013861078,\n",
       "  'std': 0.69035375,\n",
       "  'median': -0.0009999946,\n",
       "  'q1': -0.14179998636245728,\n",
       "  'q2': 0.1435999870300293,\n",
       "  'IQR': 0.2853999733924866},\n",
       " 'diff_RL': {'mean': 0.0026200782,\n",
       "  'std': 0.6792187,\n",
       "  'median': -0.00059999526,\n",
       "  'q1': -0.15650001168251038,\n",
       "  'q2': 0.1605999916791916,\n",
       "  'IQR': 0.31710000336170197},\n",
       " 'diff_CL': {'mean': 0.0020575617,\n",
       "  'std': 0.6882513,\n",
       "  'median': -0.0011999905,\n",
       "  'q1': -0.14660000801086426,\n",
       "  'q2': 0.14879998564720154,\n",
       "  'IQR': 0.2953999936580658}}"
      ]
     },
     "execution_count": 8,
     "metadata": {},
     "output_type": "execute_result"
    }
   ],
   "source": [
    "results"
   ]
  },
  {
   "cell_type": "code",
   "execution_count": null,
   "id": "16a0705f-2475-459d-8a89-d2e44ad02df6",
   "metadata": {},
   "outputs": [],
   "source": []
  }
 ],
 "metadata": {
  "kernelspec": {
   "display_name": "Python 3 (ipykernel)",
   "language": "python",
   "name": "python3"
  },
  "language_info": {
   "codemirror_mode": {
    "name": "ipython",
    "version": 3
   },
   "file_extension": ".py",
   "mimetype": "text/x-python",
   "name": "python",
   "nbconvert_exporter": "python",
   "pygments_lexer": "ipython3",
   "version": "3.10.13"
  }
 },
 "nbformat": 4,
 "nbformat_minor": 5
}
